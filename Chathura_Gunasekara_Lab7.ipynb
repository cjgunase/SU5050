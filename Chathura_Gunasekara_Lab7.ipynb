{
 "cells": [
  {
   "cell_type": "markdown",
   "metadata": {
    "collapsed": false
   },
   "source": [
    "## Part II\n",
    "\n",
    "\n"
   ]
  },
  {
   "cell_type": "code",
   "execution_count": 3,
   "metadata": {
    "collapsed": false
   },
   "outputs": [
    {
     "name": "stdout",
     "output_type": "stream",
     "text": [
      "coolness :  [9, 6, 4, -3, 6, 2, 5, 10, 7, 6]\n",
      "height :  [5.0, 4.4, 5.2, 5.6, 5.7, 6.2, 6.5, 6.8, 5.7, 5.5]\n",
      "age :  [17, 45, 27, 22, 27, 44, 45, 38, 15, 32]\n",
      "home_latitude :  [50, 20, 30, 20, 50, 20, 20, 50, 50, 10]\n"
     ]
    }
   ],
   "source": [
    "from scipy import stats \n",
    "mycsv = './GOT_database_expanded.csv' \n",
    "tmp = open(mycsv, 'r') \n",
    "lines = tmp.readlines() \n",
    "tmp.close() \n",
    "coolness = []\n",
    "height = []\n",
    "age = []\n",
    "home_latitude = []\n",
    "for line in lines[1:]:\n",
    "    ln = line.replace('\\n','').replace('\\r','').split(',')\n",
    "    coolness.append(int(ln[1]))\n",
    "    height.append(float(ln[3]))\n",
    "    age.append(int(ln[4]))\n",
    "    home_latitude.append(int(ln[5]))\n",
    "    \n",
    "print (\"coolness : \",coolness)\n",
    "print (\"height : \",height)\n",
    "print (\"age : \",age)\n",
    "print (\"home_latitude : \",home_latitude)"
   ]
  },
  {
   "cell_type": "markdown",
   "metadata": {},
   "source": [
    "## Part III"
   ]
  },
  {
   "cell_type": "markdown",
   "metadata": {},
   "source": [
    "<B> Get the Statistics </B>"
   ]
  },
  {
   "cell_type": "code",
   "execution_count": 26,
   "metadata": {
    "collapsed": false
   },
   "outputs": [],
   "source": [
    "from scipy import stats as s\n",
    "from numpy import median\n",
    "def discrpStat(arr):\n",
    "    \"\"\"This function returns descriptive statistics about the input array\"\"\"\n",
    "    stats = \"min = \",\"%.2f\" % round(s.describe(arr)[1][0],2),\"max = \",\"%.2f\" % round(s.describe(arr)[1][1],2),\"mean = \",\"%.2f\" % round(s.describe(arr)[2],2),\"median = \",\"%.2f\" % round(median(arr),2)\n",
    "    return stats"
   ]
  },
  {
   "cell_type": "code",
   "execution_count": 27,
   "metadata": {
    "collapsed": false
   },
   "outputs": [
    {
     "name": "stdout",
     "output_type": "stream",
     "text": [
      "coolness :  ('min = ', '-3.00', 'max = ', '10.00', 'mean = ', '5.20', 'median = ', '6.00')\n",
      "height :  ('min = ', '4.40', 'max = ', '6.80', 'mean = ', '5.66', 'median = ', '5.65')\n",
      "age :  ('min = ', '15.00', 'max = ', '45.00', 'mean = ', '31.20', 'median = ', '29.50')\n",
      "home_latitude :  ('min = ', '10.00', 'max = ', '50.00', 'mean = ', '32.00', 'median = ', '25.00')\n"
     ]
    }
   ],
   "source": [
    "print (\"coolness : \",discrpStat(coolness))\n",
    "print (\"height : \",discrpStat(height))\n",
    "print (\"age : \", discrpStat(age))\n",
    "print (\"home_latitude : \",discrpStat(home_latitude))\n"
   ]
  },
  {
   "cell_type": "markdown",
   "metadata": {},
   "source": [
    "<B> Find Correlations </B>"
   ]
  },
  {
   "cell_type": "code",
   "execution_count": 29,
   "metadata": {
    "collapsed": false
   },
   "outputs": [
    {
     "name": "stdout",
     "output_type": "stream",
     "text": [
      "('coolness', 'height') \tcorr. coefficien =  0.045844173782 \t p-value =  0.899926370186\n",
      "('coolness', 'age') \tcorr. coefficien =  -0.0142822681812 \t p-value =  0.968763910511\n",
      "('coolness', 'home_latitude') \tcorr. coefficien =  0.589880844951 \t p-value =  0.0726570185259\n",
      "('height', 'age') \tcorr. coefficien =  0.270037252554 \t p-value =  0.450516023423\n",
      "('height', 'home_latitude') \tcorr. coefficien =  0.132968958486 \t p-value =  0.714218866814\n",
      "('age', 'home_latitude') \tcorr. coefficien =  -0.530721247267 \t p-value =  0.114490508308\n"
     ]
    }
   ],
   "source": [
    "import itertools as it\n",
    "from scipy import stats\n",
    "import pylab\n",
    "import numpy as np\n",
    "heading = ['coolness','height','age','home_latitude']\n",
    "headComb = list(it.combinations(heading, 2))\n",
    "columns = [[9, 6, 4, -3, 6, 2, 5, 10, 7, 6],[5.0, 4.4, 5.2, 5.6, 5.7, 6.2, 6.5, 6.8, 5.7, 5.5],[17, 45, 27, 22, 27, 44, 45, 38, 15, 32],[50, 20, 30, 20, 50, 20, 20, 50, 50, 10]]\n",
    "combinations = list(it.combinations(columns, 2))\n",
    "\n",
    "for i in range(len(combinations)):\n",
    "    # Fit the model\n",
    "    x = np.array(combinations[i][0])\n",
    "    y = np.array(combinations[i][1])\n",
    "    slope, intercept, r_value, p_value, slope_std_error = stats.linregress(x, y)\n",
    "\n",
    "\n",
    "    print (headComb[i],\"\\tcorr. coefficien = \",r_value,\"\\t p-value = \",p_value)\n",
    "    \n",
    "\n",
    "\n",
    "\n"
   ]
  },
  {
   "cell_type": "code",
   "execution_count": null,
   "metadata": {
    "collapsed": false
   },
   "outputs": [],
   "source": []
  },
  {
   "cell_type": "code",
   "execution_count": null,
   "metadata": {
    "collapsed": false
   },
   "outputs": [],
   "source": []
  },
  {
   "cell_type": "code",
   "execution_count": null,
   "metadata": {
    "collapsed": true
   },
   "outputs": [],
   "source": []
  }
 ],
 "metadata": {
  "kernelspec": {
   "display_name": "Python 3",
   "language": "python",
   "name": "python3"
  },
  "language_info": {
   "codemirror_mode": {
    "name": "ipython",
    "version": 3
   },
   "file_extension": ".py",
   "mimetype": "text/x-python",
   "name": "python",
   "nbconvert_exporter": "python",
   "pygments_lexer": "ipython3",
   "version": "3.3.5"
  }
 },
 "nbformat": 4,
 "nbformat_minor": 0
}
