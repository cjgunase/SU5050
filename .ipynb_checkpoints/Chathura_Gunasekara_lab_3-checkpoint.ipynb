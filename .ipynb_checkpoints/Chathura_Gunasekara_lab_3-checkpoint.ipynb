{
 "cells": [
  {
   "cell_type": "markdown",
   "metadata": {},
   "source": [
    "# Part I"
   ]
  },
  {
   "cell_type": "markdown",
   "metadata": {},
   "source": [
    "### (a) average the scores"
   ]
  },
  {
   "cell_type": "code",
   "execution_count": 14,
   "metadata": {
    "collapsed": true
   },
   "outputs": [],
   "source": [
    "def average(*scores):\n",
    "    return float(sum(scores))/len(scores)"
   ]
  },
  {
   "cell_type": "code",
   "execution_count": 15,
   "metadata": {
    "collapsed": false
   },
   "outputs": [
    {
     "data": {
      "text/plain": [
       "88.6"
      ]
     },
     "execution_count": 15,
     "metadata": {},
     "output_type": "execute_result"
    }
   ],
   "source": [
    "average(95,90,80,91,87)"
   ]
  },
  {
   "cell_type": "markdown",
   "metadata": {},
   "source": [
    "### (b) drop the min score"
   ]
  },
  {
   "cell_type": "code",
   "execution_count": 51,
   "metadata": {
    "collapsed": false
   },
   "outputs": [],
   "source": [
    "def drop_one(*scores):\n",
    "    my_list = list(scores)\n",
    "    my_list.sort()\n",
    "    return float(sum(my_list[1:]))/len(my_list[1:])\n",
    "    \n",
    "    \n",
    "    "
   ]
  },
  {
   "cell_type": "markdown",
   "metadata": {},
   "source": [
    "# Part 2"
   ]
  },
  {
   "cell_type": "code",
   "execution_count": 61,
   "metadata": {
    "collapsed": false
   },
   "outputs": [],
   "source": [
    "def pH_probe(pH_val):\n",
    "    if pH_val > 8:\n",
    "        print \"The sample has a pH of \",pH_val,\" it is basic\"\n",
    "    elif 6 < pH_val < 8:\n",
    "        print \"The sample has a pH of \",pH_val,\" its natural\"\n",
    "    elif 3 < pH_val <= 6:\n",
    "        print \"The sample has a pH of \",pH_val,\" its acidic\"\n",
    "    elif pH_val < 3:\n",
    "        print \"The sample has a pH of \",pH_val,\" its acidic\"\n",
    "        print \"***WARNING***\""
   ]
  },
  {
   "cell_type": "code",
   "execution_count": 63,
   "metadata": {
    "collapsed": false
   },
   "outputs": [
    {
     "name": "stdout",
     "output_type": "stream",
     "text": [
      "The sample has a pH of  8.21  it is basic\n"
     ]
    }
   ],
   "source": [
    "pH_probe(8.21)"
   ]
  },
  {
   "cell_type": "code",
   "execution_count": 64,
   "metadata": {
    "collapsed": false
   },
   "outputs": [
    {
     "name": "stdout",
     "output_type": "stream",
     "text": [
      "The sample has a pH of  2  its acidic\n",
      "***WARNING***\n"
     ]
    }
   ],
   "source": [
    "pH_probe(2)"
   ]
  },
  {
   "cell_type": "code",
   "execution_count": 74,
   "metadata": {
    "collapsed": false
   },
   "outputs": [],
   "source": [
    "def pop_density(*args):\n",
    "    population = args[0]\n",
    "    area = args[1]\n",
    "    unit = args[2]\n",
    "    if not (unit is \"mi\" or unit is \"km\"):\n",
    "        print \"ERROR: \",unit,\"is not a valid unit. Use 'mi' or 'km'.\"\n",
    "    else:\n",
    "        pop_den = round(population/float(area),1)\n",
    "        print \"The population density is \",pop_den,\"per square\",unit,\".\""
   ]
  },
  {
   "cell_type": "code",
   "execution_count": 75,
   "metadata": {
    "collapsed": false
   },
   "outputs": [
    {
     "name": "stdout",
     "output_type": "stream",
     "text": [
      "The population density is  610.8 per square mi .\n"
     ]
    }
   ],
   "source": [
    "pop_density(5928814,9707,'mi')"
   ]
  },
  {
   "cell_type": "code",
   "execution_count": null,
   "metadata": {
    "collapsed": true
   },
   "outputs": [],
   "source": []
  }
 ],
 "metadata": {
  "kernelspec": {
   "display_name": "Python 2",
   "language": "python",
   "name": "python2"
  },
  "language_info": {
   "codemirror_mode": {
    "name": "ipython",
    "version": 2
   },
   "file_extension": ".py",
   "mimetype": "text/x-python",
   "name": "python",
   "nbconvert_exporter": "python",
   "pygments_lexer": "ipython2",
   "version": "2.7.10"
  }
 },
 "nbformat": 4,
 "nbformat_minor": 0
}
