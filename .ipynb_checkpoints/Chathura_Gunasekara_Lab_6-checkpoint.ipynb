{
 "cells": [
  {
   "cell_type": "markdown",
   "metadata": {},
   "source": [
    "# Part I"
   ]
  },
  {
   "cell_type": "code",
   "execution_count": 32,
   "metadata": {
    "collapsed": false
   },
   "outputs": [
    {
     "name": "stdout",
     "output_type": "stream",
     "text": [
      "['name', 'coolness', 'hair', 'height']\n",
      "['Arya', '8', 'short', 'short']\n",
      "['Tyrion', '6', 'brown', 'shorter']\n",
      "['Daenerys', '4', 'white', 'shortish']\n",
      "['Joffrey', '-3', 'dumb', 'regular']\n",
      "average coolness is 3.75\n"
     ]
    }
   ],
   "source": [
    "tmp = open('./GOT_database.csv','r')\n",
    "lines = tmp.readlines() \n",
    "sum_coolnes = 0\n",
    "print (lines[0].rstrip().split(','))\n",
    "for line in lines[1:]:\n",
    "    sum_coolnes = sum_coolnes + int(line.rstrip().split(',')[1])\n",
    "    print (line.rstrip().split(','))\n",
    "tmp.close()\n",
    "\n",
    "print (\"average coolness is\",(sum_coolnes/len(lines[1:])))"
   ]
  },
  {
   "cell_type": "markdown",
   "metadata": {},
   "source": [
    "# Part II"
   ]
  },
  {
   "cell_type": "code",
   "execution_count": 42,
   "metadata": {
    "collapsed": false
   },
   "outputs": [
    {
     "name": "stdout",
     "output_type": "stream",
     "text": [
      "Printing to file...\n",
      "Done\n"
     ]
    }
   ],
   "source": [
    "tmp = open('./GOT_database.csv','r')\n",
    "wh = open('./GOT_database_new.csv','w')\n",
    "lines = tmp.readlines() \n",
    "\n",
    "print(\"Printing to file...\")\n",
    "\n",
    "wh.write(','.join(lines[0].split(',')))\n",
    "for line in lines[1:]:\n",
    "    wh.write(','.join(line.split(',')))\n",
    "tmp.close()\n",
    "wh.close()\n",
    "print (\"Done\")\n"
   ]
  },
  {
   "cell_type": "code",
   "execution_count": 47,
   "metadata": {
    "collapsed": false
   },
   "outputs": [
    {
     "name": "stdout",
     "output_type": "stream",
     "text": [
      "Printing to file...\n",
      "['Arya', '8', 'short', 'short']\n",
      "['Tyrion', '6', 'brown', 'shorter']\n",
      "['Daenerys', '4', 'white', 'shortish']\n",
      "Done\n"
     ]
    }
   ],
   "source": [
    "tmp = open('./GOT_database.csv','r')\n",
    "wh = open('./GOT_database_cool.csv','w')\n",
    "lines = tmp.readlines() \n",
    "\n",
    "print(\"Printing to file...\")\n",
    "\n",
    "wh.write(','.join(lines[0].split(',')))\n",
    "for line in lines[1:]:\n",
    "    if (int(line.split(',')[1]) > 0):\n",
    "        print (line.rstrip().split(','))\n",
    "        wh.write(','.join(line.split(',')))\n",
    "tmp.close()\n",
    "wh.close()\n",
    "print (\"Done\")"
   ]
  },
  {
   "cell_type": "code",
   "execution_count": null,
   "metadata": {
    "collapsed": true
   },
   "outputs": [],
   "source": []
  }
 ],
 "metadata": {
  "kernelspec": {
   "display_name": "Python 3",
   "language": "python",
   "name": "python3"
  },
  "language_info": {
   "codemirror_mode": {
    "name": "ipython",
    "version": 3
   },
   "file_extension": ".py",
   "mimetype": "text/x-python",
   "name": "python",
   "nbconvert_exporter": "python",
   "pygments_lexer": "ipython3",
   "version": "3.3.5"
  }
 },
 "nbformat": 4,
 "nbformat_minor": 0
}
